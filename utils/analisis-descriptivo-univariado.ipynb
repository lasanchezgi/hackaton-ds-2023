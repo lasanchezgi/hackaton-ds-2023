{
 "cells": [
  {
   "cell_type": "markdown",
   "metadata": {},
   "source": [
    "# Análisis descriptivo univariado"
   ]
  },
  {
   "cell_type": "markdown",
   "metadata": {},
   "source": [
    "## Importar librerias"
   ]
  },
  {
   "cell_type": "code",
   "execution_count": 1,
   "metadata": {},
   "outputs": [],
   "source": [
    "import numpy as np\n",
    "import pandas as pd\n",
    "\n",
    "import matplotlib.pyplot as plt\n",
    "import seaborn as sns"
   ]
  },
  {
   "cell_type": "markdown",
   "metadata": {},
   "source": [
    "## Análisis univariado"
   ]
  },
  {
   "cell_type": "code",
   "execution_count": 2,
   "metadata": {},
   "outputs": [],
   "source": [
    "def univariate_analysis(df):\n",
    "    # Obtener solo las columnas numéricas\n",
    "    numeric_columns = df.select_dtypes(include=['float64', 'int64'])\n",
    "\n",
    "    # Iterar sobre cada columna numérica\n",
    "    for column in numeric_columns.columns:\n",
    "        print(f\"Análisis univariado para la columna '{column}':\")\n",
    "        print(\"----------------------------------------\")\n",
    "        \n",
    "        # Estadísticas descriptivas\n",
    "        print(\"Estadísticas descriptivas:\")\n",
    "        print(numeric_columns[column].describe())\n",
    "        print()\n",
    "\n",
    "        # Gráfico de distribución (histograma y KDE)\n",
    "        plt.figure(figsize=(10, 5))\n",
    "        plt.subplot(1, 2, 1)\n",
    "        sns.histplot(numeric_columns[column], kde=True)\n",
    "        plt.title(f'Distribución de {column}')\n",
    "\n",
    "        # Boxplot\n",
    "        plt.subplot(1, 2, 2)\n",
    "        sns.boxplot(data=numeric_columns[column], orient='v')\n",
    "        plt.title(f'Boxplot de {column}')\n",
    "\n",
    "        plt.tight_layout()\n",
    "        plt.show()\n",
    "        print()"
   ]
  }
 ],
 "metadata": {
  "kernelspec": {
   "display_name": ".venv",
   "language": "python",
   "name": "python3"
  },
  "language_info": {
   "codemirror_mode": {
    "name": "ipython",
    "version": 3
   },
   "file_extension": ".py",
   "mimetype": "text/x-python",
   "name": "python",
   "nbconvert_exporter": "python",
   "pygments_lexer": "ipython3",
   "version": "3.9.6"
  }
 },
 "nbformat": 4,
 "nbformat_minor": 2
}
