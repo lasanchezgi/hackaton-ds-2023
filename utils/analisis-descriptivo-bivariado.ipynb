{
 "cells": [
  {
   "cell_type": "markdown",
   "metadata": {},
   "source": [
    "# Análisis descriptivo bivariado"
   ]
  },
  {
   "cell_type": "markdown",
   "metadata": {},
   "source": [
    "## Importar librerias"
   ]
  },
  {
   "cell_type": "code",
   "execution_count": 1,
   "metadata": {},
   "outputs": [],
   "source": [
    "import numpy as np\n",
    "import pandas as pd\n",
    "\n",
    "import matplotlib.pyplot as plt\n",
    "import seaborn as sns"
   ]
  },
  {
   "cell_type": "markdown",
   "metadata": {},
   "source": [
    "## Análisis bivariado"
   ]
  },
  {
   "cell_type": "code",
   "execution_count": 4,
   "metadata": {},
   "outputs": [],
   "source": [
    "def correlation_analysis(df, variable1, variable2):\n",
    "    \"\"\"\n",
    "    Función para realizar un análisis de correlación entre dos variables en un DataFrame.\n",
    "    \n",
    "    Parámetros:\n",
    "        - df: DataFrame. El DataFrame que contiene las variables a estudiar.\n",
    "        - variable1: str. El nombre de la primera variable.\n",
    "        - variable2: str. El nombre de la segunda variable.\n",
    "    \"\"\"\n",
    "    # Calcular la correlación\n",
    "    correlation = df[variable1].corr(df[variable2])\n",
    "    print(f\"La correlación entre {variable1} y {variable2} es: {correlation}\")\n",
    "    print(\"----------------------------------------\")\n",
    "\n",
    "    # Visualizar la relación con un gráfico de dispersión\n",
    "    plt.figure(figsize=(8, 5))\n",
    "    sns.scatterplot(data=df, x=variable1, y=variable2)\n",
    "    plt.title(f'Gráfico de Dispersión entre {variable1} y {variable2}')\n",
    "    plt.xlabel(variable1)\n",
    "    plt.ylabel(variable2)\n",
    "    plt.show()"
   ]
  }
 ],
 "metadata": {
  "kernelspec": {
   "display_name": ".venv",
   "language": "python",
   "name": "python3"
  },
  "language_info": {
   "codemirror_mode": {
    "name": "ipython",
    "version": 3
   },
   "file_extension": ".py",
   "mimetype": "text/x-python",
   "name": "python",
   "nbconvert_exporter": "python",
   "pygments_lexer": "ipython3",
   "version": "3.9.6"
  }
 },
 "nbformat": 4,
 "nbformat_minor": 2
}
